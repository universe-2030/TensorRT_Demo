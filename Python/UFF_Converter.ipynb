{
 "cells": [
  {
   "cell_type": "markdown",
   "id": "61e5f01b",
   "metadata": {},
   "source": [
    "## (py37) tensorflow 2.5.0  <- training\n",
    "## (uff_converter) tensorflow 1.15.3 + Keras 2.3.1 <- conversion"
   ]
  },
  {
   "cell_type": "code",
   "execution_count": 1,
   "id": "39ded148",
   "metadata": {},
   "outputs": [
    {
     "name": "stderr",
     "output_type": "stream",
     "text": [
      "WARNING:root:Limited tf.compat.v2.summary API due to missing TensorBoard installation.\n"
     ]
    }
   ],
   "source": [
    "import uff"
   ]
  },
  {
   "cell_type": "code",
   "execution_count": 2,
   "id": "79b0778b",
   "metadata": {},
   "outputs": [
    {
     "name": "stdout",
     "output_type": "stream",
     "text": [
      "WARNING:tensorflow:From C:\\Users\\KSJ_EXP\\anaconda3\\envs\\STDAN_tf1.15.3\\lib\\site-packages\\uff\\converters\\tensorflow\\conversion_helpers.py:274: The name tf.gfile.GFile is deprecated. Please use tf.io.gfile.GFile instead.\n",
      "\n"
     ]
    },
    {
     "name": "stderr",
     "output_type": "stream",
     "text": [
      "WARNING:tensorflow:From C:\\Users\\KSJ_EXP\\anaconda3\\envs\\STDAN_tf1.15.3\\lib\\site-packages\\uff\\converters\\tensorflow\\conversion_helpers.py:274: The name tf.gfile.GFile is deprecated. Please use tf.io.gfile.GFile instead.\n",
      "\n"
     ]
    },
    {
     "name": "stdout",
     "output_type": "stream",
     "text": [
      "NOTE: UFF has been tested with TensorFlow 1.15.0.\n",
      "WARNING: The version of TensorFlow installed on this system is not guaranteed to work with UFF.\n",
      "UFF Version 0.6.9\n",
      "=== Automatically deduced input nodes ===\n",
      "[name: \"inputs\"\n",
      "op: \"Placeholder\"\n",
      "attr {\n",
      "  key: \"dtype\"\n",
      "  value {\n",
      "    type: DT_FLOAT\n",
      "  }\n",
      "}\n",
      "attr {\n",
      "  key: \"shape\"\n",
      "  value {\n",
      "    shape {\n",
      "      dim {\n",
      "        size: -1\n",
      "      }\n",
      "      dim {\n",
      "        size: 4\n",
      "      }\n",
      "      dim {\n",
      "        size: 5\n",
      "      }\n",
      "      dim {\n",
      "        size: 1\n",
      "      }\n",
      "    }\n",
      "  }\n",
      "}\n",
      "]\n",
      "=========================================\n",
      "\n",
      "Using output node Identity\n",
      "Converting to UFF graph\n",
      "DEBUG: convert reshape to flatten node\n",
      "DEBUG [C:\\Users\\KSJ_EXP\\anaconda3\\envs\\STDAN_tf1.15.3\\lib\\site-packages\\uff\\converters\\tensorflow\\converter.py:143] Marking ['Identity'] as outputs\n",
      "No. nodes: 138\n",
      "UFF Output written to Weights/uff/STDAN_C_sbj0_Acpt_thres_0.5_iter10.uff\n"
     ]
    }
   ],
   "source": [
    "N_epoch_WDGRL = 50\n",
    "N_epoch_STDAN = 10\n",
    "acpt_thres_opt = 0.5\n",
    "\n",
    "sbj_idx = 0;\n",
    "\n",
    "# Net = \"WDGRL_\"\n",
    "Net = \"STDAN_\"\n",
    "\n",
    "if Net == \"WDGRL_\":\n",
    "    filename = Net + \"C_sbj\" + str(sbj_idx) ++ \"_iter\" + str(N_epoch_WDGRL)\n",
    "elif Net == \"STDAN_\":\n",
    "    filename = Net + \"C_sbj\" + str(sbj_idx) + \"_Acpt_thres_\" + '%.1f' % acpt_thres_opt + \"_iter\" + str(N_epoch_STDAN)\n",
    "    \n",
    "uff_model = uff.from_tensorflow_frozen_model(\"Weights/pb/\" + filename + \".pb\", ['Identity'], \\\n",
    "                                             output_filename = \"Weights/uff/\" + filename + \".uff\")"
   ]
  }
 ],
 "metadata": {
  "kernelspec": {
   "display_name": "Python 3 (ipykernel)",
   "language": "python",
   "name": "python3"
  },
  "language_info": {
   "codemirror_mode": {
    "name": "ipython",
    "version": 3
   },
   "file_extension": ".py",
   "mimetype": "text/x-python",
   "name": "python",
   "nbconvert_exporter": "python",
   "pygments_lexer": "ipython3",
   "version": "3.7.0"
  }
 },
 "nbformat": 4,
 "nbformat_minor": 5
}
